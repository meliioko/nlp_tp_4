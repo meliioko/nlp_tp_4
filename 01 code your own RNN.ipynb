{
  "cells": [
    {
      "cell_type": "markdown",
      "id": "780cf295-7141-43e8-b8b8-199b14071e2a",
      "metadata": {
        "id": "780cf295-7141-43e8-b8b8-199b14071e2a"
      },
      "source": [
        "# Coding your own RNN\n",
        "\n",
        "Using this pre-filled notebook, we will code our own RNN for sentence classification. For now, we'll keep using IMDB, as the goal of this part is to understand how an RNN works.\n",
        "\n",
        "Unlike our previous lab, we will also learn the embedding layer. Which means we need to deal with vocabulary by ourselves."
      ]
    },
    {
      "cell_type": "code",
      "execution_count": 91,
      "id": "f26c411e-1cd5-4a1c-9b3d-de16e26db901",
      "metadata": {
        "id": "f26c411e-1cd5-4a1c-9b3d-de16e26db901",
        "outputId": "d463093e-58d9-4531-8aa9-8d0e598e415b",
        "colab": {
          "base_uri": "https://localhost:8080/"
        }
      },
      "outputs": [
        {
          "output_type": "stream",
          "name": "stdout",
          "text": [
            "Looking in indexes: https://pypi.org/simple, https://us-python.pkg.dev/colab-wheels/public/simple/\n",
            "Requirement already satisfied: datasets in /usr/local/lib/python3.10/dist-packages (2.12.0)\n",
            "Requirement already satisfied: numpy>=1.17 in /usr/local/lib/python3.10/dist-packages (from datasets) (1.22.4)\n",
            "Requirement already satisfied: pyarrow>=8.0.0 in /usr/local/lib/python3.10/dist-packages (from datasets) (9.0.0)\n",
            "Requirement already satisfied: dill<0.3.7,>=0.3.0 in /usr/local/lib/python3.10/dist-packages (from datasets) (0.3.6)\n",
            "Requirement already satisfied: pandas in /usr/local/lib/python3.10/dist-packages (from datasets) (1.5.3)\n",
            "Requirement already satisfied: requests>=2.19.0 in /usr/local/lib/python3.10/dist-packages (from datasets) (2.27.1)\n",
            "Requirement already satisfied: tqdm>=4.62.1 in /usr/local/lib/python3.10/dist-packages (from datasets) (4.65.0)\n",
            "Requirement already satisfied: xxhash in /usr/local/lib/python3.10/dist-packages (from datasets) (3.2.0)\n",
            "Requirement already satisfied: multiprocess in /usr/local/lib/python3.10/dist-packages (from datasets) (0.70.14)\n",
            "Requirement already satisfied: fsspec[http]>=2021.11.1 in /usr/local/lib/python3.10/dist-packages (from datasets) (2023.4.0)\n",
            "Requirement already satisfied: aiohttp in /usr/local/lib/python3.10/dist-packages (from datasets) (3.8.4)\n",
            "Requirement already satisfied: huggingface-hub<1.0.0,>=0.11.0 in /usr/local/lib/python3.10/dist-packages (from datasets) (0.14.1)\n",
            "Requirement already satisfied: packaging in /usr/local/lib/python3.10/dist-packages (from datasets) (23.1)\n",
            "Requirement already satisfied: responses<0.19 in /usr/local/lib/python3.10/dist-packages (from datasets) (0.18.0)\n",
            "Requirement already satisfied: pyyaml>=5.1 in /usr/local/lib/python3.10/dist-packages (from datasets) (6.0)\n",
            "Requirement already satisfied: attrs>=17.3.0 in /usr/local/lib/python3.10/dist-packages (from aiohttp->datasets) (23.1.0)\n",
            "Requirement already satisfied: charset-normalizer<4.0,>=2.0 in /usr/local/lib/python3.10/dist-packages (from aiohttp->datasets) (2.0.12)\n",
            "Requirement already satisfied: multidict<7.0,>=4.5 in /usr/local/lib/python3.10/dist-packages (from aiohttp->datasets) (6.0.4)\n",
            "Requirement already satisfied: async-timeout<5.0,>=4.0.0a3 in /usr/local/lib/python3.10/dist-packages (from aiohttp->datasets) (4.0.2)\n",
            "Requirement already satisfied: yarl<2.0,>=1.0 in /usr/local/lib/python3.10/dist-packages (from aiohttp->datasets) (1.9.2)\n",
            "Requirement already satisfied: frozenlist>=1.1.1 in /usr/local/lib/python3.10/dist-packages (from aiohttp->datasets) (1.3.3)\n",
            "Requirement already satisfied: aiosignal>=1.1.2 in /usr/local/lib/python3.10/dist-packages (from aiohttp->datasets) (1.3.1)\n",
            "Requirement already satisfied: filelock in /usr/local/lib/python3.10/dist-packages (from huggingface-hub<1.0.0,>=0.11.0->datasets) (3.12.0)\n",
            "Requirement already satisfied: typing-extensions>=3.7.4.3 in /usr/local/lib/python3.10/dist-packages (from huggingface-hub<1.0.0,>=0.11.0->datasets) (4.5.0)\n",
            "Requirement already satisfied: urllib3<1.27,>=1.21.1 in /usr/local/lib/python3.10/dist-packages (from requests>=2.19.0->datasets) (1.26.15)\n",
            "Requirement already satisfied: certifi>=2017.4.17 in /usr/local/lib/python3.10/dist-packages (from requests>=2.19.0->datasets) (2022.12.7)\n",
            "Requirement already satisfied: idna<4,>=2.5 in /usr/local/lib/python3.10/dist-packages (from requests>=2.19.0->datasets) (3.4)\n",
            "Requirement already satisfied: python-dateutil>=2.8.1 in /usr/local/lib/python3.10/dist-packages (from pandas->datasets) (2.8.2)\n",
            "Requirement already satisfied: pytz>=2020.1 in /usr/local/lib/python3.10/dist-packages (from pandas->datasets) (2022.7.1)\n",
            "Requirement already satisfied: six>=1.5 in /usr/local/lib/python3.10/dist-packages (from python-dateutil>=2.8.1->pandas->datasets) (1.16.0)\n"
          ]
        }
      ],
      "source": [
        "!pip install datasets\n",
        "from functools import partial\n",
        "from typing import Callable, Dict, Generator, List, Tuple\n",
        "\n",
        "from datasets import load_dataset\n",
        "import numpy as np\n",
        "from sklearn.utils import shuffle\n",
        "import torch\n",
        "from torch import nn\n",
        "from torchtext.vocab import vocab, Vocab\n",
        "from torchtext.data.utils import get_tokenizer\n",
        "\n",
        "from tqdm.auto import tqdm"
      ]
    },
    {
      "cell_type": "markdown",
      "id": "ec040734-ff61-4c85-982c-acb2a5bd6d8c",
      "metadata": {
        "id": "ec040734-ff61-4c85-982c-acb2a5bd6d8c"
      },
      "source": [
        "## Dataset\n",
        "We load the dataset and split the training set in a stratified train/validation set."
      ]
    },
    {
      "cell_type": "code",
      "execution_count": 92,
      "id": "42b598f9-36b5-43e3-bb25-488b0fb53aac",
      "metadata": {
        "id": "42b598f9-36b5-43e3-bb25-488b0fb53aac",
        "outputId": "cd675dec-bca6-467f-e4de-0274770053bf",
        "colab": {
          "base_uri": "https://localhost:8080/",
          "height": 121,
          "referenced_widgets": [
            "5489816a04054c1984b6d50390a1cebe",
            "6668bfea8f2f4ffdb12a9fd8b221c689",
            "4f62f971aee245ea8b033db5de28fe3d",
            "c26a118f89294673ab0ef7ffb7744cf1",
            "cbf19105f4334b9da9030c4e1114920b",
            "e42b7068a60f46e59c2883fb359b1907",
            "7285fc68276f4a8899010419bb566ad6",
            "59d54efb1c054f55b40382e6be06de1e",
            "1b4456aa37c545d58568c781bc62b07e",
            "d7037ba2d08f40d683a7bf7d8ed33dd0",
            "589175e4e8fa43099943a9e61afc8df6"
          ]
        }
      },
      "outputs": [
        {
          "output_type": "stream",
          "name": "stderr",
          "text": [
            "WARNING:datasets.builder:Found cached dataset imdb (/root/.cache/huggingface/datasets/imdb/plain_text/1.0.0/d613c88cf8fa3bab83b4ded3713f1f74830d1100e171db75bbddb80b3345c9c0)\n"
          ]
        },
        {
          "output_type": "display_data",
          "data": {
            "text/plain": [
              "  0%|          | 0/3 [00:00<?, ?it/s]"
            ],
            "application/vnd.jupyter.widget-view+json": {
              "version_major": 2,
              "version_minor": 0,
              "model_id": "5489816a04054c1984b6d50390a1cebe"
            }
          },
          "metadata": {}
        },
        {
          "output_type": "stream",
          "name": "stderr",
          "text": [
            "WARNING:datasets.arrow_dataset:Loading cached split indices for dataset at /root/.cache/huggingface/datasets/imdb/plain_text/1.0.0/d613c88cf8fa3bab83b4ded3713f1f74830d1100e171db75bbddb80b3345c9c0/cache-5f37fd0866e4f89f.arrow and /root/.cache/huggingface/datasets/imdb/plain_text/1.0.0/d613c88cf8fa3bab83b4ded3713f1f74830d1100e171db75bbddb80b3345c9c0/cache-dd5732a0e6ac784c.arrow\n"
          ]
        },
        {
          "output_type": "execute_result",
          "data": {
            "text/plain": [
              "((20000, 2), (5000, 2), (25000, 2))"
            ]
          },
          "metadata": {},
          "execution_count": 92
        }
      ],
      "source": [
        "dataset = load_dataset(\"imdb\")\n",
        "train_dataset = dataset[\"train\"].train_test_split(\n",
        "    stratify_by_column=\"label\", test_size=0.2, seed=42\n",
        ")\n",
        "test_df = dataset[\"test\"]\n",
        "train_df = train_dataset[\"train\"]\n",
        "valid_df = train_dataset[\"test\"]\n",
        "train_df.shape, valid_df.shape, test_df.shape"
      ]
    },
    {
      "cell_type": "markdown",
      "id": "f309e444-d52d-4f87-8d18-7bb470b7cfcd",
      "metadata": {
        "id": "f309e444-d52d-4f87-8d18-7bb470b7cfcd"
      },
      "source": [
        "## Vocabulary (1 point)\n",
        "\n",
        "**\\[1 point\\]** Build your own vocabulary. The [example provided in torchtext documentation](https://pytorch.org/text/stable/vocab.html#id1) might be of help.\n",
        "* Don't forge to setup the `min_freq` parameter to not include unfrequent noise.\n",
        "* You will need a tokenizer. Reuse the `basic_english` one from the our previous lab.\n",
        "* For an RNN we need two special tokens: `<unk>`, for unknown words, and `<pad>` for padding."
      ]
    },
    {
      "cell_type": "code",
      "execution_count": 93,
      "id": "a19f11b7",
      "metadata": {
        "id": "a19f11b7"
      },
      "outputs": [],
      "source": [
        "from collections import Counter, OrderedDict\n",
        "tokenizer = get_tokenizer(\"basic_english\", language=\"en\")\n",
        "\n",
        "words = [word for sentence in train_df['text'] for word in tokenizer(sentence)]\n",
        "counter = Counter(words)\n",
        "sorted_by_freq_tuples = sorted(counter.items(), key=lambda x: x[1], reverse=True)\n",
        "ordered_dict = OrderedDict(sorted_by_freq_tuples)\n",
        "unk_token = '<unk>'\n",
        "pad_token = '<pad>'\n",
        "default_index = -1\n",
        "vocabulary = vocab(ordered_dict=ordered_dict, specials=[unk_token, pad_token], min_freq=3)\n",
        "vocabulary.set_default_index(default_index)\n",
        "vocabulary.set_default_index(vocabulary[unk_token])"
      ]
    },
    {
      "cell_type": "code",
      "execution_count": 94,
      "id": "777fb3e4",
      "metadata": {
        "id": "777fb3e4",
        "outputId": "770ddb14-6a17-42b1-d0bd-22059ef0b181",
        "colab": {
          "base_uri": "https://localhost:8080/"
        }
      },
      "outputs": [
        {
          "output_type": "execute_result",
          "data": {
            "text/plain": [
              "1"
            ]
          },
          "metadata": {},
          "execution_count": 94
        }
      ],
      "source": [
        "vocabulary[pad_token]"
      ]
    },
    {
      "cell_type": "markdown",
      "id": "89386d66-f758-4d87-b786-9d570eb22f2f",
      "metadata": {
        "id": "89386d66-f758-4d87-b786-9d570eb22f2f"
      },
      "source": [
        "## Vectorize and batch the input (3 points)\n",
        "\n",
        "As seen in class, our model should take one-hot encoded vectors corresponding to the each token vocabulary id. However, computing a vector x matrix multiplication for every input is unnecessarily costly. Multiplying a one-hot vector with a matrix is the equivalent of taking one row of the matrix. In pyTorch, we provide ids for each token which will be used as input to an `nn.Embedding` layer. The id is simply the row in the embedding matrix.\n",
        "\n",
        "**\\[1 point\\]** Fill the `vectorize_text` function returning a 1D torch tensor of `torch.long` for each input text."
      ]
    },
    {
      "cell_type": "code",
      "execution_count": 95,
      "id": "3f6fc4eb-2f25-43ee-8b2f-a9154545ebc6",
      "metadata": {
        "id": "3f6fc4eb-2f25-43ee-8b2f-a9154545ebc6"
      },
      "outputs": [],
      "source": [
        "def vectorize_text(\n",
        "    text: str, vocabulary: Vocab, tokenizer: Callable[[str], List[str]]\n",
        ") -> torch.Tensor:\n",
        "    \"\"\"\n",
        "    Generate a tensor of vocabluary IDs for a given text.\n",
        "    Args:\n",
        "        text: the input text.\n",
        "        vocabulary: a Vocab objects.\n",
        "        tokenizer: a text tokenizer.\n",
        "    Returns:\n",
        "        A tensor of IDs (torch.long).\n",
        "    \"\"\"\n",
        "    tokens = tokenizer(text)\n",
        "    res = []\n",
        "    for token in tokens:\n",
        "        res.append(vocabulary[token])\n",
        "    return torch.tensor(res, dtype=torch.long)"
      ]
    },
    {
      "cell_type": "code",
      "execution_count": 96,
      "id": "2a4a9058-ad04-43b9-bf5c-680afb44e35c",
      "metadata": {
        "id": "2a4a9058-ad04-43b9-bf5c-680afb44e35c"
      },
      "outputs": [],
      "source": [
        "text_pipeline = partial(vectorize_text, vocabulary=vocabulary, tokenizer=tokenizer)"
      ]
    },
    {
      "cell_type": "markdown",
      "id": "9717208d-2f50-4d16-b170-904beeeb71ad",
      "metadata": {
        "id": "9717208d-2f50-4d16-b170-904beeeb71ad"
      },
      "source": [
        "Check the function is working correctly, especially it should return the right special id for unknown words."
      ]
    },
    {
      "cell_type": "code",
      "execution_count": 97,
      "id": "9727204a-ecff-4e4d-a316-543865d52a31",
      "metadata": {
        "id": "9727204a-ecff-4e4d-a316-543865d52a31",
        "outputId": "8c092f7d-6fb3-4cac-d21b-fa08c4f211b3",
        "colab": {
          "base_uri": "https://localhost:8080/"
        }
      },
      "outputs": [
        {
          "output_type": "execute_result",
          "data": {
            "text/plain": [
              "tensor([  56, 3160,   13,  244,  526,   50,    3,    3,    3,    0])"
            ]
          },
          "metadata": {},
          "execution_count": 97
        }
      ],
      "source": [
        "text_pipeline(\"Some text I am thinking about... ragafqfa\")"
      ]
    },
    {
      "cell_type": "code",
      "execution_count": 98,
      "id": "97eb948c-cfae-47b1-b8ce-bafa358afe65",
      "metadata": {
        "id": "97eb948c-cfae-47b1-b8ce-bafa358afe65",
        "outputId": "ffac4420-aa71-4e76-effc-1adc47a90790",
        "colab": {
          "base_uri": "https://localhost:8080/",
          "height": 113,
          "referenced_widgets": [
            "d533fc1664b1448d9f68560d384738bd",
            "badb4ec6320046dbbd28e8c51de6396b",
            "fc28b0ed2a1f4c82a8fee41ef7c1db01",
            "1223b5e8dde0463d80da44bda911e03a",
            "9760d63efe944635a15b0128c9e6d3c4",
            "0ecf75b781694fe183736da131cd8ecf",
            "0a55b6462884433e99174be304de61cf",
            "7bbf7693e0e4417e8c83bbf990725a51",
            "8555eba6f7134292bcf75e9891431ed4",
            "3ee6d7961b7144c8ac69fbfaf379aa11",
            "e9bd5009c75346cdbb178ca1394e7b6f",
            "28d70b113ede45018be5db8111ff4cf0",
            "091a202a56bd43d5806c5cb18d85f9c2",
            "7a80eec66e654054ae4acb7a8a9e6896",
            "b572307e219841249d3a278b7b2c52db",
            "de86914df2b54483801eb9e106c95cb8",
            "1487131953c941bba70ded4382625df5",
            "3eb007cbdafd4dea9586c17c5e142fe7",
            "4d1860f5c3cd4afcb40855b7acc2994e",
            "23fdf54d6d4a41fbbdaf1b854105a587",
            "11030ac50a23415f9b510bf36d92dcdb",
            "cdf163822af94b1a8f94311415117647",
            "233d2407b3be4efaa69570db01e9941c",
            "9d68379c23ef4a1d86f0b45fbf745076",
            "9d6ade1ecc144ba4ba2f65985683cd0d",
            "a1f00e87f426419e98af404176aa6f37",
            "5393a7c9e6af41c9a4033418a3513062",
            "d3fd714f8f3b484aae26dfe8a8460d12",
            "8191417020284fab915a3de598635c9e",
            "55fec26669fa49f0854e33f74976bdb5",
            "6a790439a30f46b9a08e1dd054682e6f",
            "698ca8b667014dd89d1ad2acdaec9d45",
            "038c87bc82074b5faed5a42cf63ef72e"
          ]
        }
      },
      "outputs": [
        {
          "output_type": "display_data",
          "data": {
            "text/plain": [
              "  0%|          | 0/20000 [00:00<?, ?it/s]"
            ],
            "application/vnd.jupyter.widget-view+json": {
              "version_major": 2,
              "version_minor": 0,
              "model_id": "d533fc1664b1448d9f68560d384738bd"
            }
          },
          "metadata": {}
        },
        {
          "output_type": "display_data",
          "data": {
            "text/plain": [
              "  0%|          | 0/5000 [00:00<?, ?it/s]"
            ],
            "application/vnd.jupyter.widget-view+json": {
              "version_major": 2,
              "version_minor": 0,
              "model_id": "28d70b113ede45018be5db8111ff4cf0"
            }
          },
          "metadata": {}
        },
        {
          "output_type": "display_data",
          "data": {
            "text/plain": [
              "  0%|          | 0/25000 [00:00<?, ?it/s]"
            ],
            "application/vnd.jupyter.widget-view+json": {
              "version_major": 2,
              "version_minor": 0,
              "model_id": "233d2407b3be4efaa69570db01e9941c"
            }
          },
          "metadata": {}
        }
      ],
      "source": [
        "X_train = [text_pipeline(text) for text in tqdm(train_df[\"text\"])]\n",
        "y_train = train_df[\"label\"]\n",
        "X_valid = [text_pipeline(text) for text in tqdm(valid_df[\"text\"])]\n",
        "y_valid = valid_df[\"label\"]\n",
        "X_test = [text_pipeline(text) for text in tqdm(test_df[\"text\"])]\n",
        "y_test = test_df[\"label\"]"
      ]
    },
    {
      "cell_type": "markdown",
      "id": "67138763-f848-4dd7-9036-68df352d22a0",
      "metadata": {
        "id": "67138763-f848-4dd7-9036-68df352d22a0"
      },
      "source": [
        "To speed up the training process, we turn the inputs into batches, as we did last time. For batches to work, every line must have the same lengths. Last time, it was implicit as only a vector (the average of all embeddings) was provided. This time, every line has the length of a different review.\n",
        "\n",
        "To go around this problem, we use padding. So every line within a batch is padded to the length of its longest element.\n",
        "\n",
        "* **\\[1 point\\]** Fill the data generator function.\n",
        "* **\\[1 point\\]** On which side should you pad and why?"
      ]
    },
    {
      "cell_type": "code",
      "execution_count": 99,
      "id": "a88dd162-8107-4f05-bc8a-2fd313a3b8da",
      "metadata": {
        "id": "a88dd162-8107-4f05-bc8a-2fd313a3b8da"
      },
      "outputs": [],
      "source": [
        "def data_generator(\n",
        "    X: List[torch.tensor], y: List[int], pad_id: int, batch_size: int = 32\n",
        ") -> Generator[Tuple[torch.Tensor, torch.Tensor], None, None]:\n",
        "    \"\"\"\n",
        "    Yield batches from given input data and labels.\n",
        "    Args:\n",
        "        X: a list of tensor (input features).\n",
        "        y: the corresponding labels.\n",
        "        batch_size: the size of every batch [32].\n",
        "    Returns:\n",
        "        A tuple of tensors (features, labels).\n",
        "    \"\"\"\n",
        "    X, y = shuffle(X, y)\n",
        "    for i in range(0, len(X) - batch_size, batch_size):\n",
        "        max_length = 0\n",
        "        for j in range(i, i + batch_size):\n",
        "            if X[j].size()[0] > max_length:\n",
        "              max_length = X[j].size()[0]\n",
        "        for j in range(i, i + batch_size):\n",
        "            pad = max_length - X[j].size()[0]\n",
        "            pad_tensor = torch.full((pad,), pad_id)\n",
        "            X[j] = torch.cat((pad_tensor, X[j]))\n",
        "            \n",
        "        yield (torch.stack(X[i:i+batch_size]), torch.tensor(y[i:i+batch_size], dtype=torch.long))"
      ]
    },
    {
      "cell_type": "markdown",
      "source": [
        "## Nous mettons le padding au debut car la prediction dépend de la fin du text, donc cela gacherai notre prédiction"
      ],
      "metadata": {
        "id": "NCFi6yCRO_rt"
      },
      "id": "NCFi6yCRO_rt"
    },
    {
      "cell_type": "code",
      "execution_count": 100,
      "id": "c2e10342-4d6b-45c4-8e05-68ef6375b977",
      "metadata": {
        "id": "c2e10342-4d6b-45c4-8e05-68ef6375b977"
      },
      "outputs": [],
      "source": [
        "train_gen = lambda: data_generator(X_train, y_train, vocabulary[pad_token])\n",
        "valid_gen = lambda: data_generator(X_valid, y_valid, vocabulary[pad_token])\n",
        "test_gen = lambda: data_generator(X_test, y_test, vocabulary[pad_token])"
      ]
    },
    {
      "cell_type": "markdown",
      "id": "4489d625-f1ad-49ea-8b54-74463e04877f",
      "metadata": {
        "tags": [],
        "id": "4489d625-f1ad-49ea-8b54-74463e04877f"
      },
      "source": [
        "## Classifier (3 points)\n",
        "\n",
        "**\\[3 points\\]** Code your own RNN. Fill the `RNN` class correctly. Remember, an RNN has 3 elements.\n",
        "* An embedding layer to turn one-hot vectors into dense vectors.\n",
        "* A linear layer which takes the concatenation of the current embedding and hidden layer and send it to the hidden layer of our next step.\n",
        "  * `embedding_size + hidden_size -> hidden_size`\n",
        "* A linear layer which takes the concatenation of the current embedding and hidden layer and send it to the output.\n",
        "  * `embedding_size + hidden_size -> 1`\n",
        "* The provided `init_hidden` function sho"
      ]
    },
    {
      "cell_type": "code",
      "execution_count": 101,
      "id": "cfeb7471",
      "metadata": {
        "id": "cfeb7471"
      },
      "outputs": [],
      "source": [
        "class RNN(nn.Module):\n",
        "    def __init__(self, input_size, hidden_size, embedding_size):\n",
        "        super(RNN, self).__init__()\n",
        "\n",
        "        self.hidden_size = hidden_size\n",
        "\n",
        "        self.embedding = nn.Embedding(input_size, embedding_size)\n",
        "        self.hidden = nn.Linear(embedding_size, hidden_size)\n",
        "        self.previous = nn.Linear(hidden_size, hidden_size)\n",
        "        self.output = nn.Linear(hidden_size, 1)\n",
        "\n",
        "    def forward(self, x, hidden):\n",
        "        embedded = self.embedding(x)\n",
        "        \n",
        "        # Concatenate the embedded input and hidden state\n",
        "        current = self.hidden(embedded)\n",
        "\n",
        "        # Pass the concatenated tensor through the linear layer\n",
        "        previous = self.previous(hidden)\n",
        "\n",
        "        # Pass the concatenated tensor through the output layer\n",
        "        output = self.output(torch.tanh(current + previous))\n",
        "\n",
        "        return output, hidden\n",
        "\n",
        "    def init_hidden(self, batch_size):\n",
        "        # Initialize hidden state with zeros\n",
        "        hidden = torch.zeros(batch_size, self.hidden_size)\n",
        "        return hidden"
      ]
    },
    {
      "cell_type": "markdown",
      "id": "4c665df6-ff9a-4b66-80fe-8abe62d895c9",
      "metadata": {
        "id": "4c665df6-ff9a-4b66-80fe-8abe62d895c9"
      },
      "source": [
        "## Training (2 points)\n",
        "\n",
        "Training is a bit different than usual. We will need to sequentially (but in \"batch parallel\") go through an input, keeping track of the hidden layer, and use the last output as prediction.\n",
        "\n",
        "**\\[2 point\\]** Code the training loop.\n",
        "* Note that for each batch, you need to loop through the whole input and use the output of the last token as input to your criterion.\n",
        "* Keep the best model evaluated on the validation set.\n",
        "* Plot the training and validation losses.\n",
        "* Training will take some time (~30 min on a T4 GPU). Make sure your results appear in the notebook."
      ]
    },
    {
      "cell_type": "code",
      "execution_count": 102,
      "id": "965f407d",
      "metadata": {
        "id": "965f407d"
      },
      "outputs": [],
      "source": [
        "import matplotlib.pyplot as plt\n",
        "\n",
        "def train(model, criterion, optimizer, train_loader, valid_loader, num_epochs):\n",
        "    train_losses = []\n",
        "    valid_losses = []\n",
        "    best_valid_loss = float('inf')\n",
        "    best_model = None\n",
        "\n",
        "    for epoch in tqdm(range(num_epochs)):\n",
        "        model.train()\n",
        "        train_loss = 0.0\n",
        "        t_batch = 0\n",
        "\n",
        "        for inputs, targets in train_loader():\n",
        "            optimizer.zero_grad()\n",
        "\n",
        "            hidden = model.init_hidden(inputs.size(1))\n",
        "            outputs, _ = model(inputs, hidden)\n",
        "\n",
        "            # Use the output of the last token as the prediction\n",
        "            last_output = outputs[:,-1,:]\n",
        "            targets = targets.unsqueeze(-1).float()\n",
        "            loss = criterion(last_output, targets)\n",
        "\n",
        "            loss.backward()\n",
        "            optimizer.step()\n",
        "\n",
        "            train_loss += loss.item()\n",
        "            t_batch +=1\n",
        "\n",
        "        # Calculate average training loss for the epoch\n",
        "        train_loss /= t_batch\n",
        "        train_losses.append(train_loss)\n",
        "\n",
        "        model.eval()\n",
        "        valid_loss = 0.0\n",
        "        v_batch = 0\n",
        "        with torch.no_grad():\n",
        "            for inputs, targets in valid_loader():\n",
        "                hidden = model.init_hidden(inputs.size(1))\n",
        "                outputs, _ = model(inputs, hidden)\n",
        "\n",
        "                last_output = outputs[:,-1]\n",
        "                targets = targets.view(-1,1).float()\n",
        "                loss = criterion(last_output, targets)\n",
        "\n",
        "                valid_loss += loss.item()\n",
        "                v_batch += 1\n",
        "\n",
        "        # Calculate average validation loss for the epoch\n",
        "        valid_loss /= v_batch\n",
        "        valid_losses.append(valid_loss)\n",
        "\n",
        "        # Check if current model has the best validation loss\n",
        "        if valid_loss < best_valid_loss:\n",
        "            best_valid_loss = valid_loss\n",
        "            best_model = model.state_dict()\n",
        "\n",
        "        print(f\"Epoch {epoch+1}/{num_epochs}: \"\n",
        "              f\"Train Loss: {train_loss:.4f}, \"\n",
        "              f\"Valid Loss: {valid_loss:.4f}\")\n",
        "\n",
        "    # Load the best model\n",
        "    model.load_state_dict(best_model)\n",
        "\n",
        "    # Plot the training and validation losses\n",
        "    plt.plot(train_losses, label='Training Loss')\n",
        "    plt.plot(valid_losses, label='Validation Loss')\n",
        "    plt.xlabel('Epoch')\n",
        "    plt.ylabel('Loss')\n",
        "    plt.legend()\n",
        "    plt.show()\n",
        "    return model\n"
      ]
    },
    {
      "cell_type": "code",
      "execution_count": 103,
      "id": "0e9053b8-19f3-45b4-a434-2f8cef8a1f64",
      "metadata": {
        "id": "0e9053b8-19f3-45b4-a434-2f8cef8a1f64",
        "outputId": "237a999f-b370-4904-cd86-7f52add38a46",
        "colab": {
          "base_uri": "https://localhost:8080/",
          "height": 35
        }
      },
      "outputs": [
        {
          "output_type": "execute_result",
          "data": {
            "text/plain": [
              "'cpu'"
            ],
            "application/vnd.google.colaboratory.intrinsic+json": {
              "type": "string"
            }
          },
          "metadata": {},
          "execution_count": 103
        }
      ],
      "source": [
        "device = \"cuda:0\" if torch.cuda.is_available() else \"cpu\"\n",
        "device"
      ]
    },
    {
      "cell_type": "code",
      "execution_count": 104,
      "id": "46cdc558-249b-4c26-b1e5-fc1c0a78d32d",
      "metadata": {
        "id": "46cdc558-249b-4c26-b1e5-fc1c0a78d32d"
      },
      "outputs": [],
      "source": [
        "n_embedding = 32\n",
        "n_hidden = 64\n",
        "model = RNN(len(vocabulary.get_itos()), n_embedding, n_hidden).to(device)\n",
        "criterion = nn.BCEWithLogitsLoss()\n",
        "optimizer = torch.optim.RMSprop(model.parameters(), lr=0.001)"
      ]
    },
    {
      "cell_type": "markdown",
      "id": "137dc500-ece2-4efa-8207-758a5f428c26",
      "metadata": {
        "id": "137dc500-ece2-4efa-8207-758a5f428c26"
      },
      "source": [
        "## Evaluation (1 point)\n",
        "\n",
        "* **\\[1 point\\]** Compute the accuracy for all 3 splits."
      ]
    },
    {
      "cell_type": "code",
      "execution_count": 108,
      "id": "a4544dfd-7567-4bea-b484-490b6a7b74e4",
      "metadata": {
        "id": "a4544dfd-7567-4bea-b484-490b6a7b74e4",
        "outputId": "e963e7a7-b61b-41f3-c7ba-8286aa8580f5",
        "colab": {
          "base_uri": "https://localhost:8080/",
          "height": 1000,
          "referenced_widgets": [
            "43b305f34e9a49199b0e7cbc0805cd71",
            "357c058a16954283a74207287886907c",
            "0b63efe714504c42ba5b90dfaadd7397",
            "b62f21b262a84ffa9cb4afa15bd4658b",
            "24aba12223cc433db8e4eb0401781edf",
            "3fa48842831542b997a407cf93ec3915",
            "ddf9bcbb4af544b8b11002168ba8fa10",
            "735151bb764e410dbaec211c356a7734",
            "adf30aa578cf4ff5864c5076826825b4",
            "ff0ed2e0fcdb4dcba3b00466aca277aa",
            "730abf43d2b24f96825fc5b6e8e8df65"
          ]
        }
      },
      "outputs": [
        {
          "output_type": "display_data",
          "data": {
            "text/plain": [
              "  0%|          | 0/50 [00:00<?, ?it/s]"
            ],
            "application/vnd.jupyter.widget-view+json": {
              "version_major": 2,
              "version_minor": 0,
              "model_id": "43b305f34e9a49199b0e7cbc0805cd71"
            }
          },
          "metadata": {}
        },
        {
          "output_type": "stream",
          "name": "stdout",
          "text": [
            "Epoch 1/50: Train Loss: 0.6603, Valid Loss: 0.6754\n",
            "Epoch 2/50: Train Loss: 0.6591, Valid Loss: 0.6755\n",
            "Epoch 3/50: Train Loss: 0.6584, Valid Loss: 0.6762\n",
            "Epoch 4/50: Train Loss: 0.6569, Valid Loss: 0.6761\n",
            "Epoch 5/50: Train Loss: 0.6563, Valid Loss: 0.6766\n",
            "Epoch 6/50: Train Loss: 0.6557, Valid Loss: 0.6773\n",
            "Epoch 7/50: Train Loss: 0.6547, Valid Loss: 0.6789\n",
            "Epoch 8/50: Train Loss: 0.6544, Valid Loss: 0.6780\n",
            "Epoch 9/50: Train Loss: 0.6538, Valid Loss: 0.6798\n",
            "Epoch 10/50: Train Loss: 0.6528, Valid Loss: 0.6803\n",
            "Epoch 11/50: Train Loss: 0.6528, Valid Loss: 0.6798\n",
            "Epoch 12/50: Train Loss: 0.6523, Valid Loss: 0.6799\n",
            "Epoch 13/50: Train Loss: 0.6519, Valid Loss: 0.6806\n",
            "Epoch 14/50: Train Loss: 0.6515, Valid Loss: 0.6809\n",
            "Epoch 15/50: Train Loss: 0.6511, Valid Loss: 0.6811\n",
            "Epoch 16/50: Train Loss: 0.6509, Valid Loss: 0.6816\n",
            "Epoch 17/50: Train Loss: 0.6508, Valid Loss: 0.6814\n",
            "Epoch 18/50: Train Loss: 0.6502, Valid Loss: 0.6818\n",
            "Epoch 19/50: Train Loss: 0.6504, Valid Loss: 0.6825\n",
            "Epoch 20/50: Train Loss: 0.6501, Valid Loss: 0.6824\n",
            "Epoch 21/50: Train Loss: 0.6499, Valid Loss: 0.6823\n",
            "Epoch 22/50: Train Loss: 0.6497, Valid Loss: 0.6826\n",
            "Epoch 23/50: Train Loss: 0.6498, Valid Loss: 0.6830\n",
            "Epoch 24/50: Train Loss: 0.6496, Valid Loss: 0.6833\n",
            "Epoch 25/50: Train Loss: 0.6496, Valid Loss: 0.6832\n",
            "Epoch 26/50: Train Loss: 0.6492, Valid Loss: 0.6833\n",
            "Epoch 27/50: Train Loss: 0.6492, Valid Loss: 0.6833\n",
            "Epoch 28/50: Train Loss: 0.6491, Valid Loss: 0.6865\n",
            "Epoch 29/50: Train Loss: 0.6488, Valid Loss: 0.6857\n",
            "Epoch 30/50: Train Loss: 0.6490, Valid Loss: 0.6838\n",
            "Epoch 31/50: Train Loss: 0.6490, Valid Loss: 0.6833\n",
            "Epoch 32/50: Train Loss: 0.6490, Valid Loss: 0.6842\n",
            "Epoch 33/50: Train Loss: 0.6489, Valid Loss: 0.6838\n",
            "Epoch 34/50: Train Loss: 0.6488, Valid Loss: 0.6843\n",
            "Epoch 35/50: Train Loss: 0.6487, Valid Loss: 0.6839\n",
            "Epoch 36/50: Train Loss: 0.6484, Valid Loss: 0.6855\n",
            "Epoch 37/50: Train Loss: 0.6486, Valid Loss: 0.6845\n",
            "Epoch 38/50: Train Loss: 0.6485, Valid Loss: 0.6860\n",
            "Epoch 39/50: Train Loss: 0.6486, Valid Loss: 0.6853\n",
            "Epoch 40/50: Train Loss: 0.6484, Valid Loss: 0.6862\n",
            "Epoch 41/50: Train Loss: 0.6483, Valid Loss: 0.6868\n",
            "Epoch 42/50: Train Loss: 0.6483, Valid Loss: 0.6846\n",
            "Epoch 43/50: Train Loss: 0.6483, Valid Loss: 0.6842\n",
            "Epoch 44/50: Train Loss: 0.6481, Valid Loss: 0.6848\n",
            "Epoch 45/50: Train Loss: 0.6479, Valid Loss: 0.6883\n",
            "Epoch 46/50: Train Loss: 0.6483, Valid Loss: 0.6845\n",
            "Epoch 47/50: Train Loss: 0.6480, Valid Loss: 0.6849\n",
            "Epoch 48/50: Train Loss: 0.6480, Valid Loss: 0.6847\n",
            "Epoch 49/50: Train Loss: 0.6481, Valid Loss: 0.6844\n",
            "Epoch 50/50: Train Loss: 0.6480, Valid Loss: 0.6856\n"
          ]
        },
        {
          "output_type": "display_data",
          "data": {
            "text/plain": [
              "<Figure size 640x480 with 1 Axes>"
            ],
            "image/png": "[encoded data removed]"
          },
          "metadata": {}
        }
      ],
      "source": [
        "trained = train(model, criterion,optimizer, train_gen, valid_gen, 50)"
      ]
    },
    {
      "cell_type": "code",
      "source": [
        "# Your code\n",
        "# Note that we need to use a sigmoid on the output now.\n",
        "def evaluate(model: nn.Module, dataloader: Generator[Tuple[torch.Tensor, torch.Tensor], None, None]) -> float:\n",
        "    \"\"\"\n",
        "    Function evaluating the model on dataset.\n",
        "    \"\"\"\n",
        "    correct = 0\n",
        "    total = 0\n",
        "    with torch.no_grad():\n",
        "        for inputs, targets in dataloader:\n",
        "            targets = targets.view(-1,1).float()\n",
        "            hidden = model.init_hidden(inputs.size(1))\n",
        "            outputs, _ = model(inputs, hidden)\n",
        "            predicted = torch.round(torch.sigmoid(outputs))\n",
        "            total += targets.size(0)\n",
        "            correct += (predicted[:,-1] == targets).sum().item()\n",
        "    return correct / total\n",
        "def accuracy(model: nn.Module) -> None:\n",
        "    \"\"\"\n",
        "    Print the accuracy of the model for the 3 dataset (train, val, test) ordered\n",
        "    \"\"\"\n",
        "    with torch.no_grad():\n",
        "        train_accuracy = evaluate(model, train_gen())\n",
        "        val_accuracy = evaluate(model, valid_gen())\n",
        "        test_accuracy = evaluate(model, test_gen())\n",
        "    print(train_accuracy, val_accuracy, test_accuracy)\n",
        "\n",
        "accuracy(trained)"
      ],
      "metadata": {
        "id": "03qvAgfj8Ieg",
        "outputId": "4aa69bf9-606e-42b2-8460-077e1afbd6f5",
        "colab": {
          "base_uri": "https://localhost:8080/"
        }
      },
      "id": "03qvAgfj8Ieg",
      "execution_count": 109,
      "outputs": [
        {
          "output_type": "stream",
          "name": "stdout",
          "text": [
            "0.541015625 0.5272435897435898 0.5251680537772087\n"
          ]
        }
      ]
    },
    {
      "cell_type": "code",
      "source": [],
      "metadata": {
        "id": "LamXcbKqNyBj"
      },
      "id": "LamXcbKqNyBj",
      "execution_count": null,
      "outputs": []
    }
  ],
  "metadata": {
    "kernelspec": {
      "display_name": "Python 3 (ipykernel)",
      "language": "python",
      "name": "python3"
    },
    "language_info": {
      "codemirror_mode": {
        "name": "ipython",
        "version": 3
      },
      "file_extension": ".py",
      "mimetype": "text/x-python",
      "name": "python",
      "nbconvert_exporter": "python",
      "pygments_lexer": "ipython3",
      "version": "3.10.9"
    },
    "colab": {
      "provenance": []
    },
    "widgets": {
      "application/vnd.jupyter.widget-state+json": {
        "5489816a04054c1984b6d50390a1cebe": {
          "model_module": "@jupyter-widgets/controls",
          "model_name": "HBoxModel",
          "model_module_version": "1.5.0",
          "state": {
            "_dom_classes": [],
            "_model_module": "@jupyter-widgets/controls",
            "_model_module_version": "1.5.0",
            "_model_name": "HBoxModel",
            "_view_count": null,
            "_view_module": "@jupyter-widgets/controls",
            "_view_module_version": "1.5.0",
            "_view_name": "HBoxView",
            "box_style": "",
            "children": [
              "IPY_MODEL_6668bfea8f2f4ffdb12a9fd8b221c689",
              "IPY_MODEL_4f62f971aee245ea8b033db5de28fe3d",
              "IPY_MODEL_c26a118f89294673ab0ef7ffb7744cf1"
            ],
            "layout": "IPY_MODEL_cbf19105f4334b9da9030c4e1114920b"
          }
        },
        "6668bfea8f2f4ffdb12a9fd8b221c689": {
          "model_module": "@jupyter-widgets/controls",
          "model_name": "HTMLModel",
          "model_module_version": "1.5.0",
          "state": {
            "_dom_classes": [],
            "_model_module": "@jupyter-widgets/controls",
            "_model_module_version": "1.5.0",
            "_model_name": "HTMLModel",
            "_view_count": null,
            "_view_module": "@jupyter-widgets/controls",
            "_view_module_version": "1.5.0",
            "_view_name": "HTMLView",
            "description": "",
            "description_tooltip": null,
            "layout": "IPY_MODEL_e42b7068a60f46e59c2883fb359b1907",
            "placeholder": "​",
            "style": "IPY_MODEL_7285fc68276f4a8899010419bb566ad6",
            "value": "100%"
          }
        },
        "4f62f971aee245ea8b033db5de28fe3d": {
          "model_module": "@jupyter-widgets/controls",
          "model_name": "FloatProgressModel",
          "model_module_version": "1.5.0",
          "state": {
            "_dom_classes": [],
            "_model_module": "@jupyter-widgets/controls",
            "_model_module_version": "1.5.0",
            "_model_name": "FloatProgressModel",
            "_view_count": null,
            "_view_module": "@jupyter-widgets/controls",
            "_view_module_version": "1.5.0",
            "_view_name": "ProgressView",
            "bar_style": "success",
            "description": "",
            "description_tooltip": null,
            "layout": "IPY_MODEL_59d54efb1c054f55b40382e6be06de1e",
            "max": 3,
            "min": 0,
            "orientation": "horizontal",
            "style": "IPY_MODEL_1b4456aa37c545d58568c781bc62b07e",
            "value": 3
          }
        },
        "c26a118f89294673ab0ef7ffb7744cf1": {
          "model_module": "@jupyter-widgets/controls",
          "model_name": "HTMLModel",
          "model_module_version": "1.5.0",
          "state": {
            "_dom_classes": [],
            "_model_module": "@jupyter-widgets/controls",
            "_model_module_version": "1.5.0",
            "_model_name": "HTMLModel",
            "_view_count": null,
            "_view_module": "@jupyter-widgets/controls",
            "_view_module_version": "1.5.0",
            "_view_name": "HTMLView",
            "description": "",
            "description_tooltip": null,
            "layout": "IPY_MODEL_d7037ba2d08f40d683a7bf7d8ed33dd0",
            "placeholder": "​",
            "style": "IPY_MODEL_589175e4e8fa43099943a9e61afc8df6",
            "value": " 3/3 [00:00&lt;00:00, 89.87it/s]"
          }
        },
        "cbf19105f4334b9da9030c4e1114920b": {
          "model_module": "@jupyter-widgets/base",
          "model_name": "LayoutModel",
          "model_module_version": "1.2.0",
          "state": {
            "_model_module": "@jupyter-widgets/base",
            "_model_module_version": "1.2.0",
            "_model_name": "LayoutModel",
            "_view_count": null,
            "_view_module": "@jupyter-widgets/base",
            "_view_module_version": "1.2.0",
            "_view_name": "LayoutView",
            "align_content": null,
            "align_items": null,
            "align_self": null,
            "border": null,
            "bottom": null,
            "display": null,
            "flex": null,
            "flex_flow": null,
            "grid_area": null,
            "grid_auto_columns": null,
            "grid_auto_flow": null,
            "grid_auto_rows": null,
            "grid_column": null,
            "grid_gap": null,
            "grid_row": null,
            "grid_template_areas": null,
            "grid_template_columns": null,
            "grid_template_rows": null,
            "height": null,
            "justify_content": null,
            "justify_items": null,
            "left": null,
            "margin": null,
            "max_height": null,
            "max_width": null,
            "min_height": null,
            "min_width": null,
            "object_fit": null,
            "object_position": null,
            "order": null,
            "overflow": null,
            "overflow_x": null,
            "overflow_y": null,
            "padding": null,
            "right": null,
            "top": null,
            "visibility": null,
            "width": null
          }
        },
        "e42b7068a60f46e59c2883fb359b1907": {
          "model_module": "@jupyter-widgets/base",
          "model_name": "LayoutModel",
          "model_module_version": "1.2.0",
          "state": {
            "_model_module": "@jupyter-widgets/base",
            "_model_module_version": "1.2.0",
            "_model_name": "LayoutModel",
            "_view_count": null,
            "_view_module": "@jupyter-widgets/base",
            "_view_module_version": "1.2.0",
            "_view_name": "LayoutView",
            "align_content": null,
            "align_items": null,
            "align_self": null,
            "border": null,
            "bottom": null,
            "display": null,
            "flex": null,
            "flex_flow": null,
            "grid_area": null,
            "grid_auto_columns": null,
            "grid_auto_flow": null,
            "grid_auto_rows": null,
            "grid_column": null,
            "grid_gap": null,
            "grid_row": null,
            "grid_template_areas": null,
            "grid_template_columns": null,
            "grid_template_rows": null,
            "height": null,
            "justify_content": null,
            "justify_items": null,
            "left": null,
            "margin": null,
            "max_height": null,
            "max_width": null,
            "min_height": null,
            "min_width": null,
            "object_fit": null,
            "object_position": null,
            "order": null,
            "overflow": null,
            "overflow_x": null,
            "overflow_y": null,
            "padding": null,
            "right": null,
            "top": null,
            "visibility": null,
            "width": null
          }
        },
        "7285fc68276f4a8899010419bb566ad6": {
          "model_module": "@jupyter-widgets/controls",
          "model_name": "DescriptionStyleModel",
          "model_module_version": "1.5.0",
          "state": {
            "_model_module": "@jupyter-widgets/controls",
            "_model_module_version": "1.5.0",
            "_model_name": "DescriptionStyleModel",
            "_view_count": null,
            "_view_module": "@jupyter-widgets/base",
            "_view_module_version": "1.2.0",
            "_view_name": "StyleView",
            "description_width": ""
          }
        },
        "59d54efb1c054f55b40382e6be06de1e": {
          "model_module": "@jupyter-widgets/base",
          "model_name": "LayoutModel",
          "model_module_version": "1.2.0",
          "state": {
            "_model_module": "@jupyter-widgets/base",
            "_model_module_version": "1.2.0",
            "_model_name": "LayoutModel",
            "_view_count": null,
            "_view_module": "@jupyter-widgets/base",
            "_view_module_version": "1.2.0",
            "_view_name": "LayoutView",
            "align_content": null,
            "align_items": null,
            "align_self": null,
            "border": null,
            "bottom": null,
            "display": null,
            "flex": null,
            "flex_flow": null,
            "grid_area": null,
            "grid_auto_columns": null,
            "grid_auto_flow": null,
            "grid_auto_rows": null,
            "grid_column": null,
            "grid_gap": null,
            "grid_row": null,
            "grid_template_areas": null,
            "grid_template_columns": null,
            "grid_template_rows": null,
            "height": null,
            "justify_content": null,
            "justify_items": null,
            "left": null,
            "margin": null,
            "max_height": null,
            "max_width": null,
            "min_height": null,
            "min_width": null,
            "object_fit": null,
            "object_position": null,
            "order": null,
            "overflow": null,
            "overflow_x": null,
            "overflow_y": null,
            "padding": null,
            "right": null,
            "top": null,
            "visibility": null,
            "width": null
          }
        },
        "1b4456aa37c545d58568c781bc62b07e": {
          "model_module": "@jupyter-widgets/controls",
          "model_name": "ProgressStyleModel",
          "model_module_version": "1.5.0",
          "state": {
            "_model_module": "@jupyter-widgets/controls",
            "_model_module_version": "1.5.0",
            "_model_name": "ProgressStyleModel",
            "_view_count": null,
            "_view_module": "@jupyter-widgets/base",
            "_view_module_version": "1.2.0",
            "_view_name": "StyleView",
            "bar_color": null,
            "description_width": ""
          }
        },
        "d7037ba2d08f40d683a7bf7d8ed33dd0": {
          "model_module": "@jupyter-widgets/base",
          "model_name": "LayoutModel",
          "model_module_version": "1.2.0",
          "state": {
            "_model_module": "@jupyter-widgets/base",
            "_model_module_version": "1.2.0",
            "_model_name": "LayoutModel",
            "_view_count": null,
            "_view_module": "@jupyter-widgets/base",
            "_view_module_version": "1.2.0",
            "_view_name": "LayoutView",
            "align_content": null,
            "align_items": null,
            "align_self": null,
            "border": null,
            "bottom": null,
            "display": null,
            "flex": null,
            "flex_flow": null,
            "grid_area": null,
            "grid_auto_columns": null,
            "grid_auto_flow": null,
            "grid_auto_rows": null,
            "grid_column": null,
            "grid_gap": null,
            "grid_row": null,
            "grid_template_areas": null,
            "grid_template_columns": null,
            "grid_template_rows": null,
            "height": null,
            "justify_content": null,
            "justify_items": null,
            "left": null,
            "margin": null,
            "max_height": null,
            "max_width": null,
            "min_height": null,
            "min_width": null,
            "object_fit": null,
            "object_position": null,
            "order": null,
            "overflow": null,
            "overflow_x": null,
            "overflow_y": null,
            "padding": null,
            "right": null,
            "top": null,
            "visibility": null,
            "width": null
          }
        },
        "589175e4e8fa43099943a9e61afc8df6": {
          "model_module": "@jupyter-widgets/controls",
          "model_name": "DescriptionStyleModel",
          "model_module_version": "1.5.0",
          "state": {
            "_model_module": "@jupyter-widgets/controls",
            "_model_module_version": "1.5.0",
            "_model_name": "DescriptionStyleModel",
            "_view_count": null,
            "_view_module": "@jupyter-widgets/base",
            "_view_module_version": "1.2.0",
            "_view_name": "StyleView",
            "description_width": ""
          }
        },
        "d533fc1664b1448d9f68560d384738bd": {
          "model_module": "@jupyter-widgets/controls",
          "model_name": "HBoxModel",
          "model_module_version": "1.5.0",
          "state": {
            "_dom_classes": [],
            "_model_module": "@jupyter-widgets/controls",
            "_model_module_version": "1.5.0",
            "_model_name": "HBoxModel",
            "_view_count": null,
            "_view_module": "@jupyter-widgets/controls",
            "_view_module_version": "1.5.0",
            "_view_name": "HBoxView",
            "box_style": "",
            "children": [
              "IPY_MODEL_badb4ec6320046dbbd28e8c51de6396b",
              "IPY_MODEL_fc28b0ed2a1f4c82a8fee41ef7c1db01",
              "IPY_MODEL_1223b5e8dde0463d80da44bda911e03a"
            ],
            "layout": "IPY_MODEL_9760d63efe944635a15b0128c9e6d3c4"
          }
        },
        "badb4ec6320046dbbd28e8c51de6396b": {
          "model_module": "@jupyter-widgets/controls",
          "model_name": "HTMLModel",
          "model_module_version": "1.5.0",
          "state": {
            "_dom_classes": [],
            "_model_module": "@jupyter-widgets/controls",
            "_model_module_version": "1.5.0",
            "_model_name": "HTMLModel",
            "_view_count": null,
            "_view_module": "@jupyter-widgets/controls",
            "_view_module_version": "1.5.0",
            "_view_name": "HTMLView",
            "description": "",
            "description_tooltip": null,
            "layout": "IPY_MODEL_0ecf75b781694fe183736da131cd8ecf",
            "placeholder": "​",
            "style": "IPY_MODEL_0a55b6462884433e99174be304de61cf",
            "value": "100%"
          }
        },
        "fc28b0ed2a1f4c82a8fee41ef7c1db01": {
          "model_module": "@jupyter-widgets/controls",
          "model_name": "FloatProgressModel",
          "model_module_version": "1.5.0",
          "state": {
            "_dom_classes": [],
            "_model_module": "@jupyter-widgets/controls",
            "_model_module_version": "1.5.0",
            "_model_name": "FloatProgressModel",
            "_view_count": null,
            "_view_module": "@jupyter-widgets/controls",
            "_view_module_version": "1.5.0",
            "_view_name": "ProgressView",
            "bar_style": "success",
            "description": "",
            "description_tooltip": null,
            "layout": "IPY_MODEL_7bbf7693e0e4417e8c83bbf990725a51",
            "max": 20000,
            "min": 0,
            "orientation": "horizontal",
            "style": "IPY_MODEL_8555eba6f7134292bcf75e9891431ed4",
            "value": 20000
          }
        },
        "1223b5e8dde0463d80da44bda911e03a": {
          "model_module": "@jupyter-widgets/controls",
          "model_name": "HTMLModel",
          "model_module_version": "1.5.0",
          "state": {
            "_dom_classes": [],
            "_model_module": "@jupyter-widgets/controls",
            "_model_module_version": "1.5.0",
            "_model_name": "HTMLModel",
            "_view_count": null,
            "_view_module": "@jupyter-widgets/controls",
            "_view_module_version": "1.5.0",
            "_view_name": "HTMLView",
            "description": "",
            "description_tooltip": null,
            "layout": "IPY_MODEL_3ee6d7961b7144c8ac69fbfaf379aa11",
            "placeholder": "​",
            "style": "IPY_MODEL_e9bd5009c75346cdbb178ca1394e7b6f",
            "value": " 20000/20000 [00:20&lt;00:00, 528.54it/s]"
          }
        },
        "9760d63efe944635a15b0128c9e6d3c4": {
          "model_module": "@jupyter-widgets/base",
          "model_name": "LayoutModel",
          "model_module_version": "1.2.0",
          "state": {
            "_model_module": "@jupyter-widgets/base",
            "_model_module_version": "1.2.0",
            "_model_name": "LayoutModel",
            "_view_count": null,
            "_view_module": "@jupyter-widgets/base",
            "_view_module_version": "1.2.0",
            "_view_name": "LayoutView",
            "align_content": null,
            "align_items": null,
            "align_self": null,
            "border": null,
            "bottom": null,
            "display": null,
            "flex": null,
            "flex_flow": null,
            "grid_area": null,
            "grid_auto_columns": null,
            "grid_auto_flow": null,
            "grid_auto_rows": null,
            "grid_column": null,
            "grid_gap": null,
            "grid_row": null,
            "grid_template_areas": null,
            "grid_template_columns": null,
            "grid_template_rows": null,
            "height": null,
            "justify_content": null,
            "justify_items": null,
            "left": null,
            "margin": null,
            "max_height": null,
            "max_width": null,
            "min_height": null,
            "min_width": null,
            "object_fit": null,
            "object_position": null,
            "order": null,
            "overflow": null,
            "overflow_x": null,
            "overflow_y": null,
            "padding": null,
            "right": null,
            "top": null,
            "visibility": null,
            "width": null
          }
        },
        "0ecf75b781694fe183736da131cd8ecf": {
          "model_module": "@jupyter-widgets/base",
          "model_name": "LayoutModel",
          "model_module_version": "1.2.0",
          "state": {
            "_model_module": "@jupyter-widgets/base",
            "_model_module_version": "1.2.0",
            "_model_name": "LayoutModel",
            "_view_count": null,
            "_view_module": "@jupyter-widgets/base",
            "_view_module_version": "1.2.0",
            "_view_name": "LayoutView",
            "align_content": null,
            "align_items": null,
            "align_self": null,
            "border": null,
            "bottom": null,
            "display": null,
            "flex": null,
            "flex_flow": null,
            "grid_area": null,
            "grid_auto_columns": null,
            "grid_auto_flow": null,
            "grid_auto_rows": null,
            "grid_column": null,
            "grid_gap": null,
            "grid_row": null,
            "grid_template_areas": null,
            "grid_template_columns": null,
            "grid_template_rows": null,
            "height": null,
            "justify_content": null,
            "justify_items": null,
            "left": null,
            "margin": null,
            "max_height": null,
            "max_width": null,
            "min_height": null,
            "min_width": null,
            "object_fit": null,
            "object_position": null,
            "order": null,
            "overflow": null,
            "overflow_x": null,
            "overflow_y": null,
            "padding": null,
            "right": null,
            "top": null,
            "visibility": null,
            "width": null
          }
        },
        "0a55b6462884433e99174be304de61cf": {
          "model_module": "@jupyter-widgets/controls",
          "model_name": "DescriptionStyleModel",
          "model_module_version": "1.5.0",
          "state": {
            "_model_module": "@jupyter-widgets/controls",
            "_model_module_version": "1.5.0",
            "_model_name": "DescriptionStyleModel",
            "_view_count": null,
            "_view_module": "@jupyter-widgets/base",
            "_view_module_version": "1.2.0",
            "_view_name": "StyleView",
            "description_width": ""
          }
        },
        "7bbf7693e0e4417e8c83bbf990725a51": {
          "model_module": "@jupyter-widgets/base",
          "model_name": "LayoutModel",
          "model_module_version": "1.2.0",
          "state": {
            "_model_module": "@jupyter-widgets/base",
            "_model_module_version": "1.2.0",
            "_model_name": "LayoutModel",
            "_view_count": null,
            "_view_module": "@jupyter-widgets/base",
            "_view_module_version": "1.2.0",
            "_view_name": "LayoutView",
            "align_content": null,
            "align_items": null,
            "align_self": null,
            "border": null,
            "bottom": null,
            "display": null,
            "flex": null,
            "flex_flow": null,
            "grid_area": null,
            "grid_auto_columns": null,
            "grid_auto_flow": null,
            "grid_auto_rows": null,
            "grid_column": null,
            "grid_gap": null,
            "grid_row": null,
            "grid_template_areas": null,
            "grid_template_columns": null,
            "grid_template_rows": null,
            "height": null,
            "justify_content": null,
            "justify_items": null,
            "left": null,
            "margin": null,
            "max_height": null,
            "max_width": null,
            "min_height": null,
            "min_width": null,
            "object_fit": null,
            "object_position": null,
            "order": null,
            "overflow": null,
            "overflow_x": null,
            "overflow_y": null,
            "padding": null,
            "right": null,
            "top": null,
            "visibility": null,
            "width": null
          }
        },
        "8555eba6f7134292bcf75e9891431ed4": {
          "model_module": "@jupyter-widgets/controls",
          "model_name": "ProgressStyleModel",
          "model_module_version": "1.5.0",
          "state": {
            "_model_module": "@jupyter-widgets/controls",
            "_model_module_version": "1.5.0",
            "_model_name": "ProgressStyleModel",
            "_view_count": null,
            "_view_module": "@jupyter-widgets/base",
            "_view_module_version": "1.2.0",
            "_view_name": "StyleView",
            "bar_color": null,
            "description_width": ""
          }
        },
        "3ee6d7961b7144c8ac69fbfaf379aa11": {
          "model_module": "@jupyter-widgets/base",
          "model_name": "LayoutModel",
          "model_module_version": "1.2.0",
          "state": {
            "_model_module": "@jupyter-widgets/base",
            "_model_module_version": "1.2.0",
            "_model_name": "LayoutModel",
            "_view_count": null,
            "_view_module": "@jupyter-widgets/base",
            "_view_module_version": "1.2.0",
            "_view_name": "LayoutView",
            "align_content": null,
            "align_items": null,
            "align_self": null,
            "border": null,
            "bottom": null,
            "display": null,
            "flex": null,
            "flex_flow": null,
            "grid_area": null,
            "grid_auto_columns": null,
            "grid_auto_flow": null,
            "grid_auto_rows": null,
            "grid_column": null,
            "grid_gap": null,
            "grid_row": null,
            "grid_template_areas": null,
            "grid_template_columns": null,
            "grid_template_rows": null,
            "height": null,
            "justify_content": null,
            "justify_items": null,
            "left": null,
            "margin": null,
            "max_height": null,
            "max_width": null,
            "min_height": null,
            "min_width": null,
            "object_fit": null,
            "object_position": null,
            "order": null,
            "overflow": null,
            "overflow_x": null,
            "overflow_y": null,
            "padding": null,
            "right": null,
            "top": null,
            "visibility": null,
            "width": null
          }
        },
        "e9bd5009c75346cdbb178ca1394e7b6f": {
          "model_module": "@jupyter-widgets/controls",
          "model_name": "DescriptionStyleModel",
          "model_module_version": "1.5.0",
          "state": {
            "_model_module": "@jupyter-widgets/controls",
            "_model_module_version": "1.5.0",
            "_model_name": "DescriptionStyleModel",
            "_view_count": null,
            "_view_module": "@jupyter-widgets/base",
            "_view_module_version": "1.2.0",
            "_view_name": "StyleView",
            "description_width": ""
          }
        },
        "28d70b113ede45018be5db8111ff4cf0": {
          "model_module": "@jupyter-widgets/controls",
          "model_name": "HBoxModel",
          "model_module_version": "1.5.0",
          "state": {
            "_dom_classes": [],
            "_model_module": "@jupyter-widgets/controls",
            "_model_module_version": "1.5.0",
            "_model_name": "HBoxModel",
            "_view_count": null,
            "_view_module": "@jupyter-widgets/controls",
            "_view_module_version": "1.5.0",
            "_view_name": "HBoxView",
            "box_style": "",
            "children": [
              "IPY_MODEL_091a202a56bd43d5806c5cb18d85f9c2",
              "IPY_MODEL_7a80eec66e654054ae4acb7a8a9e6896",
              "IPY_MODEL_b572307e219841249d3a278b7b2c52db"
            ],
            "layout": "IPY_MODEL_de86914df2b54483801eb9e106c95cb8"
          }
        },
        "091a202a56bd43d5806c5cb18d85f9c2": {
          "model_module": "@jupyter-widgets/controls",
          "model_name": "HTMLModel",
          "model_module_version": "1.5.0",
          "state": {
            "_dom_classes": [],
            "_model_module": "@jupyter-widgets/controls",
            "_model_module_version": "1.5.0",
            "_model_name": "HTMLModel",
            "_view_count": null,
            "_view_module": "@jupyter-widgets/controls",
            "_view_module_version": "1.5.0",
            "_view_name": "HTMLView",
            "description": "",
            "description_tooltip": null,
            "layout": "IPY_MODEL_1487131953c941bba70ded4382625df5",
            "placeholder": "​",
            "style": "IPY_MODEL_3eb007cbdafd4dea9586c17c5e142fe7",
            "value": "100%"
          }
        },
        "7a80eec66e654054ae4acb7a8a9e6896": {
          "model_module": "@jupyter-widgets/controls",
          "model_name": "FloatProgressModel",
          "model_module_version": "1.5.0",
          "state": {
            "_dom_classes": [],
            "_model_module": "@jupyter-widgets/controls",
            "_model_module_version": "1.5.0",
            "_model_name": "FloatProgressModel",
            "_view_count": null,
            "_view_module": "@jupyter-widgets/controls",
            "_view_module_version": "1.5.0",
            "_view_name": "ProgressView",
            "bar_style": "success",
            "description": "",
            "description_tooltip": null,
            "layout": "IPY_MODEL_4d1860f5c3cd4afcb40855b7acc2994e",
            "max": 5000,
            "min": 0,
            "orientation": "horizontal",
            "style": "IPY_MODEL_23fdf54d6d4a41fbbdaf1b854105a587",
            "value": 5000
          }
        },
        "b572307e219841249d3a278b7b2c52db": {
          "model_module": "@jupyter-widgets/controls",
          "model_name": "HTMLModel",
          "model_module_version": "1.5.0",
          "state": {
            "_dom_classes": [],
            "_model_module": "@jupyter-widgets/controls",
            "_model_module_version": "1.5.0",
            "_model_name": "HTMLModel",
            "_view_count": null,
            "_view_module": "@jupyter-widgets/controls",
            "_view_module_version": "1.5.0",
            "_view_name": "HTMLView",
            "description": "",
            "description_tooltip": null,
            "layout": "IPY_MODEL_11030ac50a23415f9b510bf36d92dcdb",
            "placeholder": "​",
            "style": "IPY_MODEL_cdf163822af94b1a8f94311415117647",
            "value": " 5000/5000 [00:03&lt;00:00, 2103.13it/s]"
          }
        },
        "de86914df2b54483801eb9e106c95cb8": {
          "model_module": "@jupyter-widgets/base",
          "model_name": "LayoutModel",
          "model_module_version": "1.2.0",
          "state": {
            "_model_module": "@jupyter-widgets/base",
            "_model_module_version": "1.2.0",
            "_model_name": "LayoutModel",
            "_view_count": null,
            "_view_module": "@jupyter-widgets/base",
            "_view_module_version": "1.2.0",
            "_view_name": "LayoutView",
            "align_content": null,
            "align_items": null,
            "align_self": null,
            "border": null,
            "bottom": null,
            "display": null,
            "flex": null,
            "flex_flow": null,
            "grid_area": null,
            "grid_auto_columns": null,
            "grid_auto_flow": null,
            "grid_auto_rows": null,
            "grid_column": null,
            "grid_gap": null,
            "grid_row": null,
            "grid_template_areas": null,
            "grid_template_columns": null,
            "grid_template_rows": null,
            "height": null,
            "justify_content": null,
            "justify_items": null,
            "left": null,
            "margin": null,
            "max_height": null,
            "max_width": null,
            "min_height": null,
            "min_width": null,
            "object_fit": null,
            "object_position": null,
            "order": null,
            "overflow": null,
            "overflow_x": null,
            "overflow_y": null,
            "padding": null,
            "right": null,
            "top": null,
            "visibility": null,
            "width": null
          }
        },
        "1487131953c941bba70ded4382625df5": {
          "model_module": "@jupyter-widgets/base",
          "model_name": "LayoutModel",
          "model_module_version": "1.2.0",
          "state": {
            "_model_module": "@jupyter-widgets/base",
            "_model_module_version": "1.2.0",
            "_model_name": "LayoutModel",
            "_view_count": null,
            "_view_module": "@jupyter-widgets/base",
            "_view_module_version": "1.2.0",
            "_view_name": "LayoutView",
            "align_content": null,
            "align_items": null,
            "align_self": null,
            "border": null,
            "bottom": null,
            "display": null,
            "flex": null,
            "flex_flow": null,
            "grid_area": null,
            "grid_auto_columns": null,
            "grid_auto_flow": null,
            "grid_auto_rows": null,
            "grid_column": null,
            "grid_gap": null,
            "grid_row": null,
            "grid_template_areas": null,
            "grid_template_columns": null,
            "grid_template_rows": null,
            "height": null,
            "justify_content": null,
            "justify_items": null,
            "left": null,
            "margin": null,
            "max_height": null,
            "max_width": null,
            "min_height": null,
            "min_width": null,
            "object_fit": null,
            "object_position": null,
            "order": null,
            "overflow": null,
            "overflow_x": null,
            "overflow_y": null,
            "padding": null,
            "right": null,
            "top": null,
            "visibility": null,
            "width": null
          }
        },
        "3eb007cbdafd4dea9586c17c5e142fe7": {
          "model_module": "@jupyter-widgets/controls",
          "model_name": "DescriptionStyleModel",
          "model_module_version": "1.5.0",
          "state": {
            "_model_module": "@jupyter-widgets/controls",
            "_model_module_version": "1.5.0",
            "_model_name": "DescriptionStyleModel",
            "_view_count": null,
            "_view_module": "@jupyter-widgets/base",
            "_view_module_version": "1.2.0",
            "_view_name": "StyleView",
            "description_width": ""
          }
        },
        "4d1860f5c3cd4afcb40855b7acc2994e": {
          "model_module": "@jupyter-widgets/base",
          "model_name": "LayoutModel",
          "model_module_version": "1.2.0",
          "state": {
            "_model_module": "@jupyter-widgets/base",
            "_model_module_version": "1.2.0",
            "_model_name": "LayoutModel",
            "_view_count": null,
            "_view_module": "@jupyter-widgets/base",
            "_view_module_version": "1.2.0",
            "_view_name": "LayoutView",
            "align_content": null,
            "align_items": null,
            "align_self": null,
            "border": null,
            "bottom": null,
            "display": null,
            "flex": null,
            "flex_flow": null,
            "grid_area": null,
            "grid_auto_columns": null,
            "grid_auto_flow": null,
            "grid_auto_rows": null,
            "grid_column": null,
            "grid_gap": null,
            "grid_row": null,
            "grid_template_areas": null,
            "grid_template_columns": null,
            "grid_template_rows": null,
            "height": null,
            "justify_content": null,
            "justify_items": null,
            "left": null,
            "margin": null,
            "max_height": null,
            "max_width": null,
            "min_height": null,
            "min_width": null,
            "object_fit": null,
            "object_position": null,
            "order": null,
            "overflow": null,
            "overflow_x": null,
            "overflow_y": null,
            "padding": null,
            "right": null,
            "top": null,
            "visibility": null,
            "width": null
          }
        },
        "23fdf54d6d4a41fbbdaf1b854105a587": {
          "model_module": "@jupyter-widgets/controls",
          "model_name": "ProgressStyleModel",
          "model_module_version": "1.5.0",
          "state": {
            "_model_module": "@jupyter-widgets/controls",
            "_model_module_version": "1.5.0",
            "_model_name": "ProgressStyleModel",
            "_view_count": null,
            "_view_module": "@jupyter-widgets/base",
            "_view_module_version": "1.2.0",
            "_view_name": "StyleView",
            "bar_color": null,
            "description_width": ""
          }
        },
        "11030ac50a23415f9b510bf36d92dcdb": {
          "model_module": "@jupyter-widgets/base",
          "model_name": "LayoutModel",
          "model_module_version": "1.2.0",
          "state": {
            "_model_module": "@jupyter-widgets/base",
            "_model_module_version": "1.2.0",
            "_model_name": "LayoutModel",
            "_view_count": null,
            "_view_module": "@jupyter-widgets/base",
            "_view_module_version": "1.2.0",
            "_view_name": "LayoutView",
            "align_content": null,
            "align_items": null,
            "align_self": null,
            "border": null,
            "bottom": null,
            "display": null,
            "flex": null,
            "flex_flow": null,
            "grid_area": null,
            "grid_auto_columns": null,
            "grid_auto_flow": null,
            "grid_auto_rows": null,
            "grid_column": null,
            "grid_gap": null,
            "grid_row": null,
            "grid_template_areas": null,
            "grid_template_columns": null,
            "grid_template_rows": null,
            "height": null,
            "justify_content": null,
            "justify_items": null,
            "left": null,
            "margin": null,
            "max_height": null,
            "max_width": null,
            "min_height": null,
            "min_width": null,
            "object_fit": null,
            "object_position": null,
            "order": null,
            "overflow": null,
            "overflow_x": null,
            "overflow_y": null,
            "padding": null,
            "right": null,
            "top": null,
            "visibility": null,
            "width": null
          }
        },
        "cdf163822af94b1a8f94311415117647": {
          "model_module": "@jupyter-widgets/controls",
          "model_name": "DescriptionStyleModel",
          "model_module_version": "1.5.0",
          "state": {
            "_model_module": "@jupyter-widgets/controls",
            "_model_module_version": "1.5.0",
            "_model_name": "DescriptionStyleModel",
            "_view_count": null,
            "_view_module": "@jupyter-widgets/base",
            "_view_module_version": "1.2.0",
            "_view_name": "StyleView",
            "description_width": ""
          }
        },
        "233d2407b3be4efaa69570db01e9941c": {
          "model_module": "@jupyter-widgets/controls",
          "model_name": "HBoxModel",
          "model_module_version": "1.5.0",
          "state": {
            "_dom_classes": [],
            "_model_module": "@jupyter-widgets/controls",
            "_model_module_version": "1.5.0",
            "_model_name": "HBoxModel",
            "_view_count": null,
            "_view_module": "@jupyter-widgets/controls",
            "_view_module_version": "1.5.0",
            "_view_name": "HBoxView",
            "box_style": "",
            "children": [
              "IPY_MODEL_9d68379c23ef4a1d86f0b45fbf745076",
              "IPY_MODEL_9d6ade1ecc144ba4ba2f65985683cd0d",
              "IPY_MODEL_a1f00e87f426419e98af404176aa6f37"
            ],
            "layout": "IPY_MODEL_5393a7c9e6af41c9a4033418a3513062"
          }
        },
        "9d68379c23ef4a1d86f0b45fbf745076": {
          "model_module": "@jupyter-widgets/controls",
          "model_name": "HTMLModel",
          "model_module_version": "1.5.0",
          "state": {
            "_dom_classes": [],
            "_model_module": "@jupyter-widgets/controls",
            "_model_module_version": "1.5.0",
            "_model_name": "HTMLModel",
            "_view_count": null,
            "_view_module": "@jupyter-widgets/controls",
            "_view_module_version": "1.5.0",
            "_view_name": "HTMLView",
            "description": "",
            "description_tooltip": null,
            "layout": "IPY_MODEL_d3fd714f8f3b484aae26dfe8a8460d12",
            "placeholder": "​",
            "style": "IPY_MODEL_8191417020284fab915a3de598635c9e",
            "value": "100%"
          }
        },
        "9d6ade1ecc144ba4ba2f65985683cd0d": {
          "model_module": "@jupyter-widgets/controls",
          "model_name": "FloatProgressModel",
          "model_module_version": "1.5.0",
          "state": {
            "_dom_classes": [],
            "_model_module": "@jupyter-widgets/controls",
            "_model_module_version": "1.5.0",
            "_model_name": "FloatProgressModel",
            "_view_count": null,
            "_view_module": "@jupyter-widgets/controls",
            "_view_module_version": "1.5.0",
            "_view_name": "ProgressView",
            "bar_style": "success",
            "description": "",
            "description_tooltip": null,
            "layout": "IPY_MODEL_55fec26669fa49f0854e33f74976bdb5",
            "max": 25000,
            "min": 0,
            "orientation": "horizontal",
            "style": "IPY_MODEL_6a790439a30f46b9a08e1dd054682e6f",
            "value": 25000
          }
        },
        "a1f00e87f426419e98af404176aa6f37": {
          "model_module": "@jupyter-widgets/controls",
          "model_name": "HTMLModel",
          "model_module_version": "1.5.0",
          "state": {
            "_dom_classes": [],
            "_model_module": "@jupyter-widgets/controls",
            "_model_module_version": "1.5.0",
            "_model_name": "HTMLModel",
            "_view_count": null,
            "_view_module": "@jupyter-widgets/controls",
            "_view_module_version": "1.5.0",
            "_view_name": "HTMLView",
            "description": "",
            "description_tooltip": null,
            "layout": "IPY_MODEL_698ca8b667014dd89d1ad2acdaec9d45",
            "placeholder": "​",
            "style": "IPY_MODEL_038c87bc82074b5faed5a42cf63ef72e",
            "value": " 25000/25000 [00:12&lt;00:00, 2436.84it/s]"
          }
        },
        "5393a7c9e6af41c9a4033418a3513062": {
          "model_module": "@jupyter-widgets/base",
          "model_name": "LayoutModel",
          "model_module_version": "1.2.0",
          "state": {
            "_model_module": "@jupyter-widgets/base",
            "_model_module_version": "1.2.0",
            "_model_name": "LayoutModel",
            "_view_count": null,
            "_view_module": "@jupyter-widgets/base",
            "_view_module_version": "1.2.0",
            "_view_name": "LayoutView",
            "align_content": null,
            "align_items": null,
            "align_self": null,
            "border": null,
            "bottom": null,
            "display": null,
            "flex": null,
            "flex_flow": null,
            "grid_area": null,
            "grid_auto_columns": null,
            "grid_auto_flow": null,
            "grid_auto_rows": null,
            "grid_column": null,
            "grid_gap": null,
            "grid_row": null,
            "grid_template_areas": null,
            "grid_template_columns": null,
            "grid_template_rows": null,
            "height": null,
            "justify_content": null,
            "justify_items": null,
            "left": null,
            "margin": null,
            "max_height": null,
            "max_width": null,
            "min_height": null,
            "min_width": null,
            "object_fit": null,
            "object_position": null,
            "order": null,
            "overflow": null,
            "overflow_x": null,
            "overflow_y": null,
            "padding": null,
            "right": null,
            "top": null,
            "visibility": null,
            "width": null
          }
        },
        "d3fd714f8f3b484aae26dfe8a8460d12": {
          "model_module": "@jupyter-widgets/base",
          "model_name": "LayoutModel",
          "model_module_version": "1.2.0",
          "state": {
            "_model_module": "@jupyter-widgets/base",
            "_model_module_version": "1.2.0",
            "_model_name": "LayoutModel",
            "_view_count": null,
            "_view_module": "@jupyter-widgets/base",
            "_view_module_version": "1.2.0",
            "_view_name": "LayoutView",
            "align_content": null,
            "align_items": null,
            "align_self": null,
            "border": null,
            "bottom": null,
            "display": null,
            "flex": null,
            "flex_flow": null,
            "grid_area": null,
            "grid_auto_columns": null,
            "grid_auto_flow": null,
            "grid_auto_rows": null,
            "grid_column": null,
            "grid_gap": null,
            "grid_row": null,
            "grid_template_areas": null,
            "grid_template_columns": null,
            "grid_template_rows": null,
            "height": null,
            "justify_content": null,
            "justify_items": null,
            "left": null,
            "margin": null,
            "max_height": null,
            "max_width": null,
            "min_height": null,
            "min_width": null,
            "object_fit": null,
            "object_position": null,
            "order": null,
            "overflow": null,
            "overflow_x": null,
            "overflow_y": null,
            "padding": null,
            "right": null,
            "top": null,
            "visibility": null,
            "width": null
          }
        },
        "8191417020284fab915a3de598635c9e": {
          "model_module": "@jupyter-widgets/controls",
          "model_name": "DescriptionStyleModel",
          "model_module_version": "1.5.0",
          "state": {
            "_model_module": "@jupyter-widgets/controls",
            "_model_module_version": "1.5.0",
            "_model_name": "DescriptionStyleModel",
            "_view_count": null,
            "_view_module": "@jupyter-widgets/base",
            "_view_module_version": "1.2.0",
            "_view_name": "StyleView",
            "description_width": ""
          }
        },
        "55fec26669fa49f0854e33f74976bdb5": {
          "model_module": "@jupyter-widgets/base",
          "model_name": "LayoutModel",
          "model_module_version": "1.2.0",
          "state": {
            "_model_module": "@jupyter-widgets/base",
            "_model_module_version": "1.2.0",
            "_model_name": "LayoutModel",
            "_view_count": null,
            "_view_module": "@jupyter-widgets/base",
            "_view_module_version": "1.2.0",
            "_view_name": "LayoutView",
            "align_content": null,
            "align_items": null,
            "align_self": null,
            "border": null,
            "bottom": null,
            "display": null,
            "flex": null,
            "flex_flow": null,
            "grid_area": null,
            "grid_auto_columns": null,
            "grid_auto_flow": null,
            "grid_auto_rows": null,
            "grid_column": null,
            "grid_gap": null,
            "grid_row": null,
            "grid_template_areas": null,
            "grid_template_columns": null,
            "grid_template_rows": null,
            "height": null,
            "justify_content": null,
            "justify_items": null,
            "left": null,
            "margin": null,
            "max_height": null,
            "max_width": null,
            "min_height": null,
            "min_width": null,
            "object_fit": null,
            "object_position": null,
            "order": null,
            "overflow": null,
            "overflow_x": null,
            "overflow_y": null,
            "padding": null,
            "right": null,
            "top": null,
            "visibility": null,
            "width": null
          }
        },
        "6a790439a30f46b9a08e1dd054682e6f": {
          "model_module": "@jupyter-widgets/controls",
          "model_name": "ProgressStyleModel",
          "model_module_version": "1.5.0",
          "state": {
            "_model_module": "@jupyter-widgets/controls",
            "_model_module_version": "1.5.0",
            "_model_name": "ProgressStyleModel",
            "_view_count": null,
            "_view_module": "@jupyter-widgets/base",
            "_view_module_version": "1.2.0",
            "_view_name": "StyleView",
            "bar_color": null,
            "description_width": ""
          }
        },
        "698ca8b667014dd89d1ad2acdaec9d45": {
          "model_module": "@jupyter-widgets/base",
          "model_name": "LayoutModel",
          "model_module_version": "1.2.0",
          "state": {
            "_model_module": "@jupyter-widgets/base",
            "_model_module_version": "1.2.0",
            "_model_name": "LayoutModel",
            "_view_count": null,
            "_view_module": "@jupyter-widgets/base",
            "_view_module_version": "1.2.0",
            "_view_name": "LayoutView",
            "align_content": null,
            "align_items": null,
            "align_self": null,
            "border": null,
            "bottom": null,
            "display": null,
            "flex": null,
            "flex_flow": null,
            "grid_area": null,
            "grid_auto_columns": null,
            "grid_auto_flow": null,
            "grid_auto_rows": null,
            "grid_column": null,
            "grid_gap": null,
            "grid_row": null,
            "grid_template_areas": null,
            "grid_template_columns": null,
            "grid_template_rows": null,
            "height": null,
            "justify_content": null,
            "justify_items": null,
            "left": null,
            "margin": null,
            "max_height": null,
            "max_width": null,
            "min_height": null,
            "min_width": null,
            "object_fit": null,
            "object_position": null,
            "order": null,
            "overflow": null,
            "overflow_x": null,
            "overflow_y": null,
            "padding": null,
            "right": null,
            "top": null,
            "visibility": null,
            "width": null
          }
        },
        "038c87bc82074b5faed5a42cf63ef72e": {
          "model_module": "@jupyter-widgets/controls",
          "model_name": "DescriptionStyleModel",
          "model_module_version": "1.5.0",
          "state": {
            "_model_module": "@jupyter-widgets/controls",
            "_model_module_version": "1.5.0",
            "_model_name": "DescriptionStyleModel",
            "_view_count": null,
            "_view_module": "@jupyter-widgets/base",
            "_view_module_version": "1.2.0",
            "_view_name": "StyleView",
            "description_width": ""
          }
        },
        "43b305f34e9a49199b0e7cbc0805cd71": {
          "model_module": "@jupyter-widgets/controls",
          "model_name": "HBoxModel",
          "model_module_version": "1.5.0",
          "state": {
            "_dom_classes": [],
            "_model_module": "@jupyter-widgets/controls",
            "_model_module_version": "1.5.0",
            "_model_name": "HBoxModel",
            "_view_count": null,
            "_view_module": "@jupyter-widgets/controls",
            "_view_module_version": "1.5.0",
            "_view_name": "HBoxView",
            "box_style": "",
            "children": [
              "IPY_MODEL_357c058a16954283a74207287886907c",
              "IPY_MODEL_0b63efe714504c42ba5b90dfaadd7397",
              "IPY_MODEL_b62f21b262a84ffa9cb4afa15bd4658b"
            ],
            "layout": "IPY_MODEL_24aba12223cc433db8e4eb0401781edf"
          }
        },
        "357c058a16954283a74207287886907c": {
          "model_module": "@jupyter-widgets/controls",
          "model_name": "HTMLModel",
          "model_module_version": "1.5.0",
          "state": {
            "_dom_classes": [],
            "_model_module": "@jupyter-widgets/controls",
            "_model_module_version": "1.5.0",
            "_model_name": "HTMLModel",
            "_view_count": null,
            "_view_module": "@jupyter-widgets/controls",
            "_view_module_version": "1.5.0",
            "_view_name": "HTMLView",
            "description": "",
            "description_tooltip": null,
            "layout": "IPY_MODEL_3fa48842831542b997a407cf93ec3915",
            "placeholder": "​",
            "style": "IPY_MODEL_ddf9bcbb4af544b8b11002168ba8fa10",
            "value": "100%"
          }
        },
        "0b63efe714504c42ba5b90dfaadd7397": {
          "model_module": "@jupyter-widgets/controls",
          "model_name": "FloatProgressModel",
          "model_module_version": "1.5.0",
          "state": {
            "_dom_classes": [],
            "_model_module": "@jupyter-widgets/controls",
            "_model_module_version": "1.5.0",
            "_model_name": "FloatProgressModel",
            "_view_count": null,
            "_view_module": "@jupyter-widgets/controls",
            "_view_module_version": "1.5.0",
            "_view_name": "ProgressView",
            "bar_style": "success",
            "description": "",
            "description_tooltip": null,
            "layout": "IPY_MODEL_735151bb764e410dbaec211c356a7734",
            "max": 50,
            "min": 0,
            "orientation": "horizontal",
            "style": "IPY_MODEL_adf30aa578cf4ff5864c5076826825b4",
            "value": 50
          }
        },
        "b62f21b262a84ffa9cb4afa15bd4658b": {
          "model_module": "@jupyter-widgets/controls",
          "model_name": "HTMLModel",
          "model_module_version": "1.5.0",
          "state": {
            "_dom_classes": [],
            "_model_module": "@jupyter-widgets/controls",
            "_model_module_version": "1.5.0",
            "_model_name": "HTMLModel",
            "_view_count": null,
            "_view_module": "@jupyter-widgets/controls",
            "_view_module_version": "1.5.0",
            "_view_name": "HTMLView",
            "description": "",
            "description_tooltip": null,
            "layout": "IPY_MODEL_ff0ed2e0fcdb4dcba3b00466aca277aa",
            "placeholder": "​",
            "style": "IPY_MODEL_730abf43d2b24f96825fc5b6e8e8df65",
            "value": " 50/50 [25:20&lt;00:00, 29.68s/it]"
          }
        },
        "24aba12223cc433db8e4eb0401781edf": {
          "model_module": "@jupyter-widgets/base",
          "model_name": "LayoutModel",
          "model_module_version": "1.2.0",
          "state": {
            "_model_module": "@jupyter-widgets/base",
            "_model_module_version": "1.2.0",
            "_model_name": "LayoutModel",
            "_view_count": null,
            "_view_module": "@jupyter-widgets/base",
            "_view_module_version": "1.2.0",
            "_view_name": "LayoutView",
            "align_content": null,
            "align_items": null,
            "align_self": null,
            "border": null,
            "bottom": null,
            "display": null,
            "flex": null,
            "flex_flow": null,
            "grid_area": null,
            "grid_auto_columns": null,
            "grid_auto_flow": null,
            "grid_auto_rows": null,
            "grid_column": null,
            "grid_gap": null,
            "grid_row": null,
            "grid_template_areas": null,
            "grid_template_columns": null,
            "grid_template_rows": null,
            "height": null,
            "justify_content": null,
            "justify_items": null,
            "left": null,
            "margin": null,
            "max_height": null,
            "max_width": null,
            "min_height": null,
            "min_width": null,
            "object_fit": null,
            "object_position": null,
            "order": null,
            "overflow": null,
            "overflow_x": null,
            "overflow_y": null,
            "padding": null,
            "right": null,
            "top": null,
            "visibility": null,
            "width": null
          }
        },
        "3fa48842831542b997a407cf93ec3915": {
          "model_module": "@jupyter-widgets/base",
          "model_name": "LayoutModel",
          "model_module_version": "1.2.0",
          "state": {
            "_model_module": "@jupyter-widgets/base",
            "_model_module_version": "1.2.0",
            "_model_name": "LayoutModel",
            "_view_count": null,
            "_view_module": "@jupyter-widgets/base",
            "_view_module_version": "1.2.0",
            "_view_name": "LayoutView",
            "align_content": null,
            "align_items": null,
            "align_self": null,
            "border": null,
            "bottom": null,
            "display": null,
            "flex": null,
            "flex_flow": null,
            "grid_area": null,
            "grid_auto_columns": null,
            "grid_auto_flow": null,
            "grid_auto_rows": null,
            "grid_column": null,
            "grid_gap": null,
            "grid_row": null,
            "grid_template_areas": null,
            "grid_template_columns": null,
            "grid_template_rows": null,
            "height": null,
            "justify_content": null,
            "justify_items": null,
            "left": null,
            "margin": null,
            "max_height": null,
            "max_width": null,
            "min_height": null,
            "min_width": null,
            "object_fit": null,
            "object_position": null,
            "order": null,
            "overflow": null,
            "overflow_x": null,
            "overflow_y": null,
            "padding": null,
            "right": null,
            "top": null,
            "visibility": null,
            "width": null
          }
        },
        "ddf9bcbb4af544b8b11002168ba8fa10": {
          "model_module": "@jupyter-widgets/controls",
          "model_name": "DescriptionStyleModel",
          "model_module_version": "1.5.0",
          "state": {
            "_model_module": "@jupyter-widgets/controls",
            "_model_module_version": "1.5.0",
            "_model_name": "DescriptionStyleModel",
            "_view_count": null,
            "_view_module": "@jupyter-widgets/base",
            "_view_module_version": "1.2.0",
            "_view_name": "StyleView",
            "description_width": ""
          }
        },
        "735151bb764e410dbaec211c356a7734": {
          "model_module": "@jupyter-widgets/base",
          "model_name": "LayoutModel",
          "model_module_version": "1.2.0",
          "state": {
            "_model_module": "@jupyter-widgets/base",
            "_model_module_version": "1.2.0",
            "_model_name": "LayoutModel",
            "_view_count": null,
            "_view_module": "@jupyter-widgets/base",
            "_view_module_version": "1.2.0",
            "_view_name": "LayoutView",
            "align_content": null,
            "align_items": null,
            "align_self": null,
            "border": null,
            "bottom": null,
            "display": null,
            "flex": null,
            "flex_flow": null,
            "grid_area": null,
            "grid_auto_columns": null,
            "grid_auto_flow": null,
            "grid_auto_rows": null,
            "grid_column": null,
            "grid_gap": null,
            "grid_row": null,
            "grid_template_areas": null,
            "grid_template_columns": null,
            "grid_template_rows": null,
            "height": null,
            "justify_content": null,
            "justify_items": null,
            "left": null,
            "margin": null,
            "max_height": null,
            "max_width": null,
            "min_height": null,
            "min_width": null,
            "object_fit": null,
            "object_position": null,
            "order": null,
            "overflow": null,
            "overflow_x": null,
            "overflow_y": null,
            "padding": null,
            "right": null,
            "top": null,
            "visibility": null,
            "width": null
          }
        },
        "adf30aa578cf4ff5864c5076826825b4": {
          "model_module": "@jupyter-widgets/controls",
          "model_name": "ProgressStyleModel",
          "model_module_version": "1.5.0",
          "state": {
            "_model_module": "@jupyter-widgets/controls",
            "_model_module_version": "1.5.0",
            "_model_name": "ProgressStyleModel",
            "_view_count": null,
            "_view_module": "@jupyter-widgets/base",
            "_view_module_version": "1.2.0",
            "_view_name": "StyleView",
            "bar_color": null,
            "description_width": ""
          }
        },
        "ff0ed2e0fcdb4dcba3b00466aca277aa": {
          "model_module": "@jupyter-widgets/base",
          "model_name": "LayoutModel",
          "model_module_version": "1.2.0",
          "state": {
            "_model_module": "@jupyter-widgets/base",
            "_model_module_version": "1.2.0",
            "_model_name": "LayoutModel",
            "_view_count": null,
            "_view_module": "@jupyter-widgets/base",
            "_view_module_version": "1.2.0",
            "_view_name": "LayoutView",
            "align_content": null,
            "align_items": null,
            "align_self": null,
            "border": null,
            "bottom": null,
            "display": null,
            "flex": null,
            "flex_flow": null,
            "grid_area": null,
            "grid_auto_columns": null,
            "grid_auto_flow": null,
            "grid_auto_rows": null,
            "grid_column": null,
            "grid_gap": null,
            "grid_row": null,
            "grid_template_areas": null,
            "grid_template_columns": null,
            "grid_template_rows": null,
            "height": null,
            "justify_content": null,
            "justify_items": null,
            "left": null,
            "margin": null,
            "max_height": null,
            "max_width": null,
            "min_height": null,
            "min_width": null,
            "object_fit": null,
            "object_position": null,
            "order": null,
            "overflow": null,
            "overflow_x": null,
            "overflow_y": null,
            "padding": null,
            "right": null,
            "top": null,
            "visibility": null,
            "width": null
          }
        },
        "730abf43d2b24f96825fc5b6e8e8df65": {
          "model_module": "@jupyter-widgets/controls",
          "model_name": "DescriptionStyleModel",
          "model_module_version": "1.5.0",
          "state": {
            "_model_module": "@jupyter-widgets/controls",
            "_model_module_version": "1.5.0",
            "_model_name": "DescriptionStyleModel",
            "_view_count": null,
            "_view_module": "@jupyter-widgets/base",
            "_view_module_version": "1.2.0",
            "_view_name": "StyleView",
            "description_width": ""
          }
        }
      }
    }
  },
  "nbformat": 4,
  "nbformat_minor": 5
}